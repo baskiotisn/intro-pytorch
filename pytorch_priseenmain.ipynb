{
 "cells": [
  {
   "cell_type": "markdown",
   "metadata": {
    "id": "_TE2ItlsI956"
   },
   "source": [
    "# PyTorch : Fonctions utiles\n",
    "Nicolas Baskiotis (nicolas.baskiotis@lip6.fr)"
   ]
  },
  {
   "cell_type": "markdown",
   "metadata": {
    "id": "TAER7frwJu9L"
   },
   "source": [
    "# Préambule\n",
    "\n",
    "Les lignes suivantes permettent d'importer pytorch et vérifier qu'un GPU est disponible."
   ]
  },
  {
   "cell_type": "code",
   "execution_count": 1,
   "metadata": {
    "id": "3Y9YOOHHhJKY"
   },
   "outputs": [
    {
     "name": "stdout",
     "output_type": "stream",
     "text": [
      "La version de torch est :  1.8.1+cu102\n",
      "Le calcul GPU est disponible ?  True\n"
     ]
    }
   ],
   "source": [
    "import torch\n",
    "print(\"La version de torch est : \",torch.__version__)\n",
    "print(\"Le calcul GPU est disponible ? \", torch.cuda.is_available())\n",
    "\n",
    "import numpy as np\n",
    "import sklearn"
   ]
  },
  {
   "cell_type": "markdown",
   "metadata": {
    "id": "3WA5ZFwjkWKS"
   },
   "source": [
    "# Prise en main de Pytorch\n",
    "\n",
    "Cette partie est un tutoriel pour la prise en main de pytorch. N'hesitez pas à explorer et expérimenter les notions présentées."
   ]
  },
  {
   "cell_type": "markdown",
   "metadata": {
    "id": "u2LqFo3wzwYP"
   },
   "source": [
    "## Syntaxe\n",
    "\n",
    "Le principal objet manipulé sous Pytorch est **torch.Tensor** qui correspond à un tenseur mathématique (généralisation de la notion de matrice en $n$-dimensions), très proche dans l'utilisation de **numpy.array**.   Cet objet est optimisé pour les calculs sur GPU ce qui implique quelques contraintes plus importantes que sous **numpy**. En particulier :\n",
    "* le type du tenseur manipulé est très important et les conversions ne sont pas automatique (**FloatTensor** de type **torch.float**, **DoubleTensor** de type **torch.double**,  **ByteTensor** de type **torch.byte**, **IntTensor** de type **torch.int**, **LongTensor** de type **torch.long**). Pour un tenseur **t** La conversion se fait très simplement en utilisant les fonctions : **t.double()**, **t.float()**, **t.long()** ...\n",
    "* la plupart des opérations ont une version *inplace*, c'est-à-dire qui modifie le tenseur plutôt que de renvoyer un nouveau tenseur; elles sont suffixées par **_** (**add_** par exemple).\n",
    "\n",
    "Voici ci-dessous quelques exemples d'opérations usuelles, n'hésitez pas à vous référez à la [documentation officielle](https://pytorch.org/docs/stable/tensors.html) pour la liste exhaustive des opérations.\n"
   ]
  },
  {
   "cell_type": "code",
   "execution_count": 2,
   "metadata": {
    "cellView": "code",
    "id": "VZxNfy1b1u43"
   },
   "outputs": [
    {
     "name": "stdout",
     "output_type": "stream",
     "text": [
      "tensor([[1., 2., 3.],\n",
      "        [2., 3., 4.]])\n",
      "tensor([[[1., 1., 1., 1.],\n",
      "         [1., 1., 1., 1.],\n",
      "         [1., 1., 1., 1.]],\n",
      "\n",
      "        [[1., 1., 1., 1.],\n",
      "         [1., 1., 1., 1.],\n",
      "         [1., 1., 1., 1.]]])\n",
      "tensor([[0., 0., 0.],\n",
      "        [0., 0., 0.]])\n",
      "tensor([[14., 11., 14.],\n",
      "        [12., 14., 11.]])\n",
      "tensor([[0.8637, 1.1015, 1.0611],\n",
      "        [1.0797, 1.0414, 1.0447]])\n",
      "tensor([[0.8637, 1.1015, 1.0611, 0.8637, 1.1015, 1.0611],\n",
      "        [1.0797, 1.0414, 1.0447, 1.0797, 1.0414, 1.0447]])\n",
      "3 torch.Size([3, 4]) torch.Size([3])\n",
      "tensor([[0, 1, 1],\n",
      "        [1, 1, 1]], dtype=torch.int32) torch.IntTensor\n",
      "tensor(1.3262)\n",
      "tensor([[-0.6620, -1.8156,  3.3477,  0.4739],\n",
      "        [-0.6093, -1.7406,  3.2896,  0.2775]]) tensor([[-0.6620, -1.8156,  3.3477,  0.4739],\n",
      "        [-0.6093, -1.7406,  3.2896,  0.2775]])\n",
      "tensor([[0.8637, 1.0797],\n",
      "        [1.1015, 1.0414],\n",
      "        [1.0611, 1.0447]]) tensor([[0.8637, 1.0797],\n",
      "        [1.1015, 1.0414],\n",
      "        [1.0611, 1.0447]])\n",
      "argmax :  tensor([1, 0])\n",
      "tensor([ 0.0326,  2.6335, -1.4937]) tensor(1.1724)\n",
      "tensor([ 0.0081,  0.6584, -0.3734]) tensor(0.0977)\n",
      "tensor([[ 0.2347,  0.1611,  0.4750, -0.8381,  0.2650, -0.2323],\n",
      "        [ 2.6762, -0.0753, -1.0900, -1.6010, -0.0097,  1.2070]])\n",
      "tensor([[1.7274, 2.2030, 2.1222],\n",
      "        [2.1594, 2.0828, 2.0893]]) tensor([[0.7460, 1.2132, 1.1259],\n",
      "        [1.1657, 1.0845, 1.0913]]) tensor([[0.7460, 1.2132, 1.1259],\n",
      "        [1.1657, 1.0845, 1.0913]])\n",
      "tensor([[0., 0., 0., 0., 0.],\n",
      "        [0., 0., 0., 0., 0.],\n",
      "        [0., 0., 0., 0., 0.],\n",
      "        [0., 0., 0., 0., 0.],\n",
      "        [0., 0., 0., 0., 0.]]) tensor([[0., 0., 0., 0., 0.]])\n"
     ]
    }
   ],
   "source": [
    "# Création de tenseurs et caractéristiques\n",
    "## Créer un tenseur à partir d'une liste\n",
    "print(torch.tensor([[1.,2.,3.],[2.,3,4.]])) \n",
    "## Créer un tenseur  tenseur rempli de 1 de taille 2x3x4\n",
    "print(torch.ones(2,3,4)) \n",
    "## tenseur de zéros de taille 2x3 de type float\n",
    "print(torch.zeros(2,3,dtype=torch.float))  \n",
    "## tirage uniforme entier entre 10 et 15, \n",
    "## remarquez l'utilisation du _ dans random pour l'opération inplace\n",
    "print(torch.zeros(2,3).random_(10,15)) \n",
    "## tirage suivant la loi normale\n",
    "a=torch.zeros(2,3).normal_(1,0.1)\n",
    "print(a)\n",
    "## equivalent à zeros(3,4).normal_\n",
    "b = torch.randn(3,4) \n",
    "## Création d'un vecteur\n",
    "c = torch.randn(3)\n",
    "## concatenation de tenseurs\n",
    "print(torch.cat((a,a),1))\n",
    "## Taille des tenseurs/vecteurs\n",
    "print(a.size(1),b.shape,c.size())\n",
    "## Conversion de type\n",
    "print(a.int(),a.int().type())\n",
    "\n",
    "# Opérations élémentaires sur les tenseurs\n",
    "## produit scalaire (et contrairement à numpy, que produit scalaire)\n",
    "print(c.dot(c))\n",
    "## produit matriciel : utilisation de @ ou de la fonction mm\n",
    "print(a.mm(b), a @ b)\n",
    "## transposé\n",
    "print(a.t(),a.T)\n",
    "## index du maximum selon une dimension\n",
    "print(\"argmax : \",a.argmax(dim=1))\n",
    "## somme selon une dimension/de tous les éléments\n",
    "print(b.sum(1), b.sum()) \n",
    "## moyenne selon  une dimension/sur tous les éléments\n",
    "print(b.mean(1), b.mean())\n",
    "## changer la taille du tenseur (la taille totale doit être inchangée)\n",
    "print(b.view(2,6))\n",
    "## somme/produit/puissance termes a termes\n",
    "print(a+a,a*a,a**2)\n",
    "## attention ! comme sous numpy, il peut y avoir des pièges ! \n",
    "## Vérifier toujours les dimensions !!\n",
    "a=torch.zeros(5,1)\n",
    "b=torch.zeros(5)\n",
    "## la première opération fait un broadcast et le résultat est tenseur à 2 dimensiosn,\n",
    "## le résultat de la deuxième opération est bien un vecteur\n",
    "print(a-b,a.t()-b)"
   ]
  },
  {
   "cell_type": "code",
   "execution_count": null,
   "metadata": {},
   "outputs": [],
   "source": []
  }
 ],
 "metadata": {
  "accelerator": "GPU",
  "colab": {
   "collapsed_sections": [],
   "name": "DeepLearning fc TP1 2020-2021-correction.ipynb",
   "provenance": []
  },
  "kernelspec": {
   "display_name": "Python 3",
   "language": "python",
   "name": "python3"
  },
  "language_info": {
   "codemirror_mode": {
    "name": "ipython",
    "version": 3
   },
   "file_extension": ".py",
   "mimetype": "text/x-python",
   "name": "python",
   "nbconvert_exporter": "python",
   "pygments_lexer": "ipython3",
   "version": "3.8.10"
  }
 },
 "nbformat": 4,
 "nbformat_minor": 4
}
